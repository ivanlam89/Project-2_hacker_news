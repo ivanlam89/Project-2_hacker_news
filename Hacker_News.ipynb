{
 "cells": [
  {
   "cell_type": "markdown",
   "metadata": {},
   "source": [
    "\n",
    "# Exploring Hackers News Posts\n",
    "In this project, will show the practice of using loops, cleaning strings, and working with dates in python. \n",
    "\n",
    "We'll compare two different types of posts from Hacker News, a popular site where technology related stories (or 'posts') are voted and commented upon. The two types of posts we'll explore begin with either `Ask HN` or `Show HN`.  \n",
    "\n",
    "Users submit `Ask HN` posts to ask the [Hacker News](https://news.ycombinator.com/) community a specific question, such as \"What is the best online course you've ever taken?\" Likewise, users submit `Show HN` posts to show the Hacker News community a project, product, or just generally something interesting.\n",
    "\n",
    "We'll specifically compare these two types of posts to determine the following:\n",
    "\n",
    "+ Do `Ask HN` or `Show HN` receive more comments on average?\n",
    "+ Do posts created at a certain time receive more comments on average?\n",
    "\n",
    "It should be noted that the data set we're working with was reduced from almost 300,000 rows to approximately 20,000 rows by removing all submissions that did not receive any comments, and then randomly sampling from the remaining submissions."
   ]
  },
  {
   "cell_type": "markdown",
   "metadata": {},
   "source": [
    "## 1. Open and investigate the file : Categorize into 3 lists"
   ]
  },
  {
   "cell_type": "code",
   "execution_count": 1,
   "metadata": {
    "scrolled": true
   },
   "outputs": [
    {
     "name": "stdout",
     "output_type": "stream",
     "text": [
      "[['id', 'title', 'url', 'num_points', 'num_comments', 'author', 'created_at'], ['12224879', 'Interactive Dynamic Video', 'http://www.interactivedynamicvideo.com/', '386', '52', 'ne0phyte', '8/4/2016 11:52'], ['10975351', 'How to Use Open Source and Shut the Fuck Up at the Same Time', 'http://hueniverse.com/2016/01/26/how-to-use-open-source-and-shut-the-fuck-up-at-the-same-time/', '39', '10', 'josep2', '1/26/2016 19:30'], ['11964716', \"Florida DJs May Face Felony for April Fools' Water Joke\", 'http://www.thewire.com/entertainment/2013/04/florida-djs-april-fools-water-joke/63798/', '2', '1', 'vezycash', '6/23/2016 22:20'], ['11919867', 'Technology ventures: From Idea to Enterprise', 'https://www.amazon.com/Technology-Ventures-Enterprise-Thomas-Byers/dp/0073523429', '3', '1', 'hswarna', '6/17/2016 0:01']]\n"
     ]
    }
   ],
   "source": [
    "from csv import reader\n",
    "open_file = open('hacker_news.csv')\n",
    "read_file = reader(open_file)\n",
    "hn = list(read_file)\n",
    "print(hn[:5])"
   ]
  },
  {
   "cell_type": "code",
   "execution_count": 2,
   "metadata": {
    "scrolled": true
   },
   "outputs": [
    {
     "name": "stdout",
     "output_type": "stream",
     "text": [
      "['id', 'title', 'url', 'num_points', 'num_comments', 'author', 'created_at']\n",
      "\n",
      "\n",
      "[['12224879', 'Interactive Dynamic Video', 'http://www.interactivedynamicvideo.com/', '386', '52', 'ne0phyte', '8/4/2016 11:52'], ['10975351', 'How to Use Open Source and Shut the Fuck Up at the Same Time', 'http://hueniverse.com/2016/01/26/how-to-use-open-source-and-shut-the-fuck-up-at-the-same-time/', '39', '10', 'josep2', '1/26/2016 19:30'], ['11964716', \"Florida DJs May Face Felony for April Fools' Water Joke\", 'http://www.thewire.com/entertainment/2013/04/florida-djs-april-fools-water-joke/63798/', '2', '1', 'vezycash', '6/23/2016 22:20'], ['11919867', 'Technology ventures: From Idea to Enterprise', 'https://www.amazon.com/Technology-Ventures-Enterprise-Thomas-Byers/dp/0073523429', '3', '1', 'hswarna', '6/17/2016 0:01'], ['10301696', 'Note by Note: The Making of Steinway L1037 (2007)', 'http://www.nytimes.com/2007/11/07/movies/07stein.html?_r=0', '8', '2', 'walterbell', '9/30/2015 4:12']]\n"
     ]
    }
   ],
   "source": [
    "headers=hn[0] #assign header\n",
    "hn = hn[1:] #remove the header in dataset\n",
    "print (headers)\n",
    "print('\\n')\n",
    "print(hn[0:5])"
   ]
  },
  {
   "cell_type": "markdown",
   "metadata": {},
   "source": [
    "We can see above that the data set contains the title of the posts, the number of comments for each post, and the date the post was created. Let's start by exploring the number of comments for each type of post."
   ]
  },
  {
   "cell_type": "markdown",
   "metadata": {},
   "source": [
    "** Extracting Ask HN and Show HN Posts**"
   ]
  },
  {
   "cell_type": "markdown",
   "metadata": {},
   "source": [
    "We'll identify posts that begin with either Ask HN or Show HN and separate the data for those two types of posts into different lists. Separating the data makes it easier to analyze in the following steps."
   ]
  },
  {
   "cell_type": "code",
   "execution_count": 3,
   "metadata": {},
   "outputs": [
    {
     "name": "stdout",
     "output_type": "stream",
     "text": [
      "[['10627194', 'Show HN: Wio Link  ESP8266 Based Web of Things Hardware Development Platform', 'https://iot.seeed.cc', '26', '22', 'kfihihc', '11/25/2015 14:03'], ['10646440', 'Show HN: Something pointless I made', 'http://dn.ht/picklecat/', '747', '102', 'dhotson', '11/29/2015 22:46'], ['11590768', 'Show HN: Shanhu.io, a programming playground powered by e8vm', 'https://shanhu.io', '1', '1', 'h8liu', '4/28/2016 18:05'], ['12178806', 'Show HN: Webscope  Easy way for web developers to communicate with Clients', 'http://webscopeapp.com', '3', '3', 'fastbrick', '7/28/2016 7:11'], ['10872799', 'Show HN: GeoScreenshot  Easily test Geo-IP based web pages', 'https://www.geoscreenshot.com/', '1', '9', 'kpsychwave', '1/9/2016 20:45']]\n"
     ]
    }
   ],
   "source": [
    "# Identify posts that begin with either `Ask HN` or `Show HN` and separate the data into different lists.\n",
    "ask_posts=[]\n",
    "show_posts=[]\n",
    "other_posts=[]\n",
    "for row in hn:\n",
    "    value = row [1]\n",
    "    value = value.lower()\n",
    "    \n",
    "    if value.startswith(\"show hn\") is True:\n",
    "        show_posts.append(row)\n",
    "    elif value.startswith(\"ask hn\") is True:\n",
    "        ask_posts.append(row)\n",
    "    else:\n",
    "        other_posts.append(row)\n",
    "        \n",
    "print(show_posts[0:5])        "
   ]
  },
  {
   "cell_type": "markdown",
   "metadata": {
    "scrolled": false
   },
   "source": [
    "## 2. Calculate the Total Number and Avg number of Comment in Ask and Show \n",
    "\n",
    "Now that we separated ask posts and show posts into different lists, we'll calculate the average number of comments each type of post receives."
   ]
  },
  {
   "cell_type": "code",
   "execution_count": 4,
   "metadata": {},
   "outputs": [
    {
     "name": "stdout",
     "output_type": "stream",
     "text": [
      "total_ask_comments:  24483\n",
      "14.038417431192661\n",
      "------------------\n",
      "total_show_comments:  11988\n",
      "10.31669535283993\n"
     ]
    }
   ],
   "source": [
    "# Calculate the average number of comments `Ask HN` posts receive.\n",
    "total_ask_comments = 0\n",
    "for row in ask_posts:\n",
    "    a = int(row [4])\n",
    "    total_ask_comments += a\n",
    "avg_ask_comments = total_ask_comments/len(ask_posts)\n",
    "\n",
    "total_show_comments= 0\n",
    "for row in show_posts:\n",
    "    a = int(row [4])\n",
    "    total_show_comments += a\n",
    "avg_show_comments = total_show_comments/len(show_posts)\n",
    "print('total_ask_comments: ' , total_ask_comments)\n",
    "print(avg_ask_comments)\n",
    "print('------------------')\n",
    "print('total_show_comments: ' , total_show_comments)\n",
    "print(avg_show_comments)"
   ]
  },
  {
   "cell_type": "markdown",
   "metadata": {},
   "source": [
    "On average, ask posts in our sample receive approximately 14 comments, whereas show posts receive approximately 10. Since ask posts are more likely to receive comments, we'll focus our remaining analysis just on these posts."
   ]
  },
  {
   "cell_type": "markdown",
   "metadata": {},
   "source": [
    "## 3. Finding the Amount of Ask Posts and Comments by Hour Created\n",
    "\n",
    "Next, we'll determine if we can maximize the amount of comments an ask post receives by creating it at a certain time. First, we'll find the amount of ask posts created during each hour of day, along with the number of comments those posts received. Then, we'll calculate the average amount of comments ask posts created at each hour of the day receive."
   ]
  },
  {
   "cell_type": "code",
   "execution_count": 5,
   "metadata": {},
   "outputs": [
    {
     "name": "stdout",
     "output_type": "stream",
     "text": [
      "{'02': 58, '07': 34, '05': 46, '13': 85, '08': 48, '00': 55, '04': 47, '22': 71, '09': 45, '16': 108, '17': 100, '01': 60, '11': 58, '10': 59, '23': 68, '19': 110, '21': 109, '12': 73, '03': 54, '06': 44, '18': 109, '20': 80, '14': 107, '15': 116}\n",
      "------------\n",
      "{'02': 1381, '07': 267, '05': 464, '13': 1253, '08': 492, '00': 447, '04': 337, '22': 479, '09': 251, '16': 1814, '17': 1146, '01': 683, '11': 641, '10': 793, '23': 543, '19': 1188, '21': 1745, '12': 687, '03': 421, '06': 397, '18': 1439, '20': 1722, '14': 1416, '15': 4477}\n"
     ]
    }
   ],
   "source": [
    "# Calculate the amount of ask posts created during each hour of day and the number of comments received.\n",
    "import datetime as dt\n",
    "cnt_by_hour={}\n",
    "cmt_by_hour={}\n",
    "for row in ask_posts:\n",
    "    hour=row[-1]\n",
    "    cmt = int(row[-3])\n",
    "    hour=dt.datetime.strptime(hour,\"%m/%d/%Y %H:%M\")\n",
    "    hour = hour.strftime(\"%H\")\n",
    "    if hour in cnt_by_hour:\n",
    "        cnt_by_hour[hour] += 1\n",
    "        cmt_by_hour[hour] += cmt\n",
    "    else:\n",
    "        cnt_by_hour[hour] =1\n",
    "        cmt_by_hour[hour] = cmt\n",
    "        \n",
    "print(cnt_by_hour)\n",
    "print('------------')\n",
    "print(cmt_by_hour)"
   ]
  },
  {
   "cell_type": "markdown",
   "metadata": {},
   "source": [
    "## 4.Calculating the Average Number of Comments for Ask HN Posts by Hour"
   ]
  },
  {
   "cell_type": "code",
   "execution_count": 6,
   "metadata": {},
   "outputs": [
    {
     "name": "stdout",
     "output_type": "stream",
     "text": [
      "[['02', 23.81], ['07', 7.853], ['05', 10.087], ['13', 14.741], ['08', 10.25], ['00', 8.127], ['04', 7.17], ['22', 6.746], ['09', 5.578], ['16', 16.796], ['17', 11.46], ['01', 11.383], ['11', 11.052], ['10', 13.441], ['23', 7.985], ['19', 10.8], ['21', 16.009], ['12', 9.411], ['03', 7.796], ['06', 9.023], ['18', 13.202], ['20', 21.525], ['14', 13.234], ['15', 38.595]]\n"
     ]
    }
   ],
   "source": [
    "# Calculate the average amount of comments `Ask HN` posts created at each hour of the day receive.\n",
    "avg_by_hour=[]\n",
    "for key in cnt_by_hour:\n",
    "    result = round(cmt_by_hour[key]/cnt_by_hour[key],3)\n",
    "    avg_by_hour.append([key,result])\n",
    "print (avg_by_hour)\n",
    "    "
   ]
  },
  {
   "cell_type": "markdown",
   "metadata": {},
   "source": [
    "### 5. Make up and finish the date for report."
   ]
  },
  {
   "cell_type": "code",
   "execution_count": 7,
   "metadata": {},
   "outputs": [
    {
     "name": "stdout",
     "output_type": "stream",
     "text": [
      "[[38.595, '15'], [23.81, '02'], [21.525, '20'], [16.796, '16'], [16.009, '21'], [14.741, '13'], [13.441, '10'], [13.234, '14'], [13.202, '18'], [11.46, '17'], [11.383, '01'], [11.052, '11'], [10.8, '19'], [10.25, '08'], [10.087, '05'], [9.411, '12'], [9.023, '06'], [8.127, '00'], [7.985, '23'], [7.853, '07'], [7.796, '03'], [7.17, '04'], [6.746, '22'], [5.578, '09']]\n"
     ]
    }
   ],
   "source": [
    "sort_list = [] #sorting value in the list of lists\n",
    "for row in avg_by_hour:\n",
    "    a = row [0]\n",
    "    b = row [1]\n",
    "    sort_list.append([b,a])\n",
    "sort_result = sorted(sort_list, reverse= True)\n",
    "print(sort_result)\n",
    "    \n",
    "    "
   ]
  },
  {
   "cell_type": "code",
   "execution_count": 8,
   "metadata": {},
   "outputs": [
    {
     "name": "stdout",
     "output_type": "stream",
     "text": [
      "Top 5 Hours for Ask Posts Comments:\n",
      "['At 15:00 - There are 38.59 average comments per post', 'At 02:00 - There are 23.81 average comments per post', 'At 20:00 - There are 21.52 average comments per post', 'At 16:00 - There are 16.80 average comments per post', 'At 21:00 - There are 16.01 average comments per post']\n"
     ]
    }
   ],
   "source": [
    "# Sort the values and print the the 5 hours with the highest average comments.\n",
    "print('Top 5 Hours for Ask Posts Comments:')\n",
    "import datetime as dt\n",
    "final_list=[]\n",
    "template = \"At {a} - There are {b:,.2f} average comments per post\"\n",
    "for row in sort_result:\n",
    "    c = row[1]\n",
    "    c = dt.datetime.strptime(c,\"%H\")\n",
    "    c = c.strftime(\"%H:%M\")\n",
    "    d = row[0]\n",
    "    output= template.format(a = c, b = d)\n",
    "    final_list.append(output)\n",
    "print(final_list[0:5])"
   ]
  },
  {
   "cell_type": "markdown",
   "metadata": {},
   "source": [
    "### Conclution: \n",
    "Which hours should you create a post during to have a higher chance of receiving comments?  \n",
    "We can observe that `At 15:00 - There are 38.59 average comments per post`. Which will help you to get answer your comments the most.\n",
    "\n",
    "Please be noted that the time zone is Eastern Time in the US"
   ]
  }
 ],
 "metadata": {
  "kernelspec": {
   "display_name": "Python 3",
   "language": "python",
   "name": "python3"
  },
  "language_info": {
   "codemirror_mode": {
    "name": "ipython",
    "version": 3
   },
   "file_extension": ".py",
   "mimetype": "text/x-python",
   "name": "python",
   "nbconvert_exporter": "python",
   "pygments_lexer": "ipython3",
   "version": "3.7.3"
  }
 },
 "nbformat": 4,
 "nbformat_minor": 2
}
